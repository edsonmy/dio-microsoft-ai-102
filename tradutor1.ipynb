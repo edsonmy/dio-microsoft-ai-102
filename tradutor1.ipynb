{
  "nbformat": 4,
  "nbformat_minor": 0,
  "metadata": {
    "colab": {
      "provenance": []
    },
    "kernelspec": {
      "name": "python3",
      "display_name": "Python 3"
    },
    "language_info": {
      "name": "python"
    }
  },
  "cells": [
    {
      "cell_type": "code",
      "execution_count": null,
      "metadata": {
        "id": "REM92nH3uNBf"
      },
      "outputs": [],
      "source": [
        "!pip install requests python-docx"
      ]
    },
    {
      "cell_type": "code",
      "source": [
        "import requests\n",
        "from docx import Document\n",
        "import os\n",
        "\n",
        "subs_key = '5R46ZVaArMlCpYlZ1Wyyp97r1AqRQnZZSJjsewhXtdLqlTJfBtXmJQQJ99AKAC8vTInXJ3w3AAAbACOG7fNm'\n",
        "endpoint = 'https://api.cognitive.microsofttranslator.com/'\n",
        "location = 'westus2'\n",
        "\n",
        "language_destination = 'pt-br'\n",
        "\n",
        "\n",
        "\n",
        "def translate_text(text, target_language):\n",
        "  path = '/translate'\n",
        "  constructed_url = endpoint + path\n",
        "  headers = {\n",
        "    'Ocp-Apim-Subscription-Key': subs_key,\n",
        "    'Ocp-Apim-Subscription-Region': location,\n",
        "    'Content-type': 'application/json',\n",
        "    'X-ClientTraceId': str(os.urandom(16))\n",
        "  }\n",
        "\n",
        "  body = [{\n",
        "    'text': text\n",
        "  }]\n",
        "\n",
        "  params = {\n",
        "    'api-version': '3.0',\n",
        "    'from': 'en',\n",
        "    'to': target_language\n",
        "  }\n",
        "\n",
        "  request = requests.post(constructed_url, params=params, headers=headers, json=body)\n",
        "  response = request.json()\n",
        "  #return response\n",
        "  return response[0]['translations'][0]['text']\n"
      ],
      "metadata": {
        "id": "kZhoi3m5uoNf"
      },
      "execution_count": null,
      "outputs": []
    },
    {
      "cell_type": "code",
      "source": [
        "translate_text(\"That I should've bought you flowers and held your hand Should've gave you all my hours when I had the chance\", language_destination)"
      ],
      "metadata": {
        "id": "1EmncFqe1JsA"
      },
      "execution_count": null,
      "outputs": []
    },
    {
      "cell_type": "code",
      "source": [
        "def translate_document(path):\n",
        "  document = Document(path)\n",
        "  full_text = []\n",
        "  for paragraph in document.paragraphs:\n",
        "    translated_text = translate_text(paragraph.text, language_destination)\n",
        "    full_text.append(translated_text)\n",
        "\n",
        "    translated_doc = Document()\n",
        "    for line in full_text:\n",
        "      translated_doc.add_paragraph(line)\n",
        "\n",
        "    path_translated = path.replace(\".docx\", f\"_{language_destination}.docx\")\n",
        "\n",
        "    translated_doc.save(path_translated)\n",
        "\n",
        "    return path_translated"
      ],
      "metadata": {
        "id": "EDdkD60H3FHB"
      },
      "execution_count": null,
      "outputs": []
    },
    {
      "cell_type": "code",
      "source": [
        "input_file = \"/content/musica.docx\"\n",
        "translate_document(input_file)"
      ],
      "metadata": {
        "id": "fCoOntxK436m"
      },
      "execution_count": null,
      "outputs": []
    }
  ]
}