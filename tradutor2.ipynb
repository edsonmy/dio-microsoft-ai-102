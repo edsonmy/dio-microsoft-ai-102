{
  "nbformat": 4,
  "nbformat_minor": 0,
  "metadata": {
    "colab": {
      "provenance": []
    },
    "kernelspec": {
      "name": "python3",
      "display_name": "Python 3"
    },
    "language_info": {
      "name": "python"
    }
  },
  "cells": [
    {
      "cell_type": "code",
      "execution_count": null,
      "metadata": {
        "id": "r2XMxXLJ6vP4"
      },
      "outputs": [],
      "source": [
        "!pip install requests beautifulsoup4 openai langchain-openai"
      ]
    },
    {
      "cell_type": "code",
      "source": [
        "import requests\n",
        "from bs4 import BeautifulSoup\n",
        "\n",
        "def extract_text_from_url(url):\n",
        "  response = requests.get(url)\n",
        "  soup = BeautifulSoup(response.text, 'html.parser')\n",
        "  text = soup.get_text()\n",
        "  return text\n",
        "\n",
        "extract_text_from_url('https://dev.to/mrafaydev/kubernetes-series-part-01-21d4')"
      ],
      "metadata": {
        "id": "cmA1GTdw7Qpn"
      },
      "execution_count": null,
      "outputs": []
    },
    {
      "cell_type": "code",
      "source": [
        "from langchain_openai.chat_models.azure  import AzureChatOpenAI\n",
        "\n",
        "client = AzureChatOpenAI(\n",
        "    azure_endpoint='https://dio-ai-102-openai.openai.azure.com/',\n",
        "    api_key='38C5qZsCjnVHpB9R5limQznCXjazPD7bso8uhqNRthOhQ8aRh4XKJQQJ99AKACHYHv6XJ3w3AAABACOGdkzY',\n",
        "    api_version='2024-02-15-preview',\n",
        "    deployment_name='gpt-4o-mini',\n",
        "    max_retries=0\n",
        ")\n",
        "\n",
        "\n",
        "def translate_article(text, lang):\n",
        "  messages = [\n",
        "    (\"system\",  \"tradutor de textos\"),\n",
        "    (\"user\", f\"traduza o {text} para o idioma {lang} e responda em markdown\")\n",
        "  ]\n",
        "\n",
        "  response = client.invoke(messages)\n",
        "  #print(response.content)\n",
        "  return response.content\n"
      ],
      "metadata": {
        "id": "RfMWiqzz9-uZ"
      },
      "execution_count": null,
      "outputs": []
    },
    {
      "cell_type": "code",
      "source": [
        "url = 'https://dev.to/kishansheth/200-project-ideas-from-beginner-to-advanced-with-open-source-contributions-3g6a'\n",
        "text = extract_text_from_url(url)\n",
        "article = translate_article(text, 'pt-br')\n",
        "\n",
        "print(article)"
      ],
      "metadata": {
        "id": "EgMqRFjeDH20"
      },
      "execution_count": null,
      "outputs": []
    }
  ]
}